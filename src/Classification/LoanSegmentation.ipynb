{
 "cells": [
  {
   "cell_type": "code",
   "execution_count": 15,
   "metadata": {},
   "outputs": [],
   "source": [
    "# Import libraries and objects\n",
    "import numpy as np\n",
    "import pandas as pd\n",
    "import warnings \n",
    "warnings.filterwarnings('ignore') # mute warning messages\n",
    "from sklearn.neighbors import KNeighborsClassifier\n",
    "from sklearn.preprocessing import StandardScaler\n",
    "from sklearn.metrics import accuracy_score\n",
    "import matplotlib.pyplot as plt\n",
    "import random"
   ]
  },
  {
   "cell_type": "code",
   "execution_count": 16,
   "metadata": {},
   "outputs": [
    {
     "data": {
      "text/html": [
       "<div>\n",
       "<style scoped>\n",
       "    .dataframe tbody tr th:only-of-type {\n",
       "        vertical-align: middle;\n",
       "    }\n",
       "\n",
       "    .dataframe tbody tr th {\n",
       "        vertical-align: top;\n",
       "    }\n",
       "\n",
       "    .dataframe thead th {\n",
       "        text-align: right;\n",
       "    }\n",
       "</style>\n",
       "<table border=\"1\" class=\"dataframe\">\n",
       "  <thead>\n",
       "    <tr style=\"text-align: right;\">\n",
       "      <th></th>\n",
       "      <th>person_age</th>\n",
       "      <th>person_income</th>\n",
       "      <th>person_home_ownership</th>\n",
       "      <th>person_emp_length</th>\n",
       "      <th>loan_intent</th>\n",
       "      <th>loan_amnt</th>\n",
       "      <th>loan_int_rate</th>\n",
       "      <th>loan_status</th>\n",
       "      <th>loan_percent_income</th>\n",
       "      <th>person_credit_default</th>\n",
       "      <th>person_credit_history</th>\n",
       "    </tr>\n",
       "  </thead>\n",
       "  <tbody>\n",
       "    <tr>\n",
       "      <th>count</th>\n",
       "      <td>28495.000000</td>\n",
       "      <td>2.849500e+04</td>\n",
       "      <td>28495.000000</td>\n",
       "      <td>28495.000000</td>\n",
       "      <td>28495.000000</td>\n",
       "      <td>28495.000000</td>\n",
       "      <td>28495.000000</td>\n",
       "      <td>28495.000000</td>\n",
       "      <td>28495.000000</td>\n",
       "      <td>28495.000000</td>\n",
       "      <td>28495.000000</td>\n",
       "    </tr>\n",
       "    <tr>\n",
       "      <th>mean</th>\n",
       "      <td>27.723530</td>\n",
       "      <td>6.643047e+04</td>\n",
       "      <td>2.438919</td>\n",
       "      <td>4.781751</td>\n",
       "      <td>3.290121</td>\n",
       "      <td>9657.366205</td>\n",
       "      <td>11.045220</td>\n",
       "      <td>0.217126</td>\n",
       "      <td>0.169517</td>\n",
       "      <td>0.178593</td>\n",
       "      <td>5.800316</td>\n",
       "    </tr>\n",
       "    <tr>\n",
       "      <th>std</th>\n",
       "      <td>6.177199</td>\n",
       "      <td>5.151374e+04</td>\n",
       "      <td>0.636709</td>\n",
       "      <td>4.037958</td>\n",
       "      <td>1.717692</td>\n",
       "      <td>6327.711290</td>\n",
       "      <td>3.230786</td>\n",
       "      <td>0.412296</td>\n",
       "      <td>0.106379</td>\n",
       "      <td>0.383018</td>\n",
       "      <td>4.040800</td>\n",
       "    </tr>\n",
       "    <tr>\n",
       "      <th>min</th>\n",
       "      <td>20.000000</td>\n",
       "      <td>4.000000e+03</td>\n",
       "      <td>1.000000</td>\n",
       "      <td>0.000000</td>\n",
       "      <td>1.000000</td>\n",
       "      <td>500.000000</td>\n",
       "      <td>5.420000</td>\n",
       "      <td>0.000000</td>\n",
       "      <td>0.000000</td>\n",
       "      <td>0.000000</td>\n",
       "      <td>2.000000</td>\n",
       "    </tr>\n",
       "    <tr>\n",
       "      <th>25%</th>\n",
       "      <td>23.000000</td>\n",
       "      <td>3.948000e+04</td>\n",
       "      <td>2.000000</td>\n",
       "      <td>2.000000</td>\n",
       "      <td>2.000000</td>\n",
       "      <td>5000.000000</td>\n",
       "      <td>7.900000</td>\n",
       "      <td>0.000000</td>\n",
       "      <td>0.090000</td>\n",
       "      <td>0.000000</td>\n",
       "      <td>3.000000</td>\n",
       "    </tr>\n",
       "    <tr>\n",
       "      <th>50%</th>\n",
       "      <td>26.000000</td>\n",
       "      <td>5.600000e+04</td>\n",
       "      <td>3.000000</td>\n",
       "      <td>4.000000</td>\n",
       "      <td>3.000000</td>\n",
       "      <td>8000.000000</td>\n",
       "      <td>10.990000</td>\n",
       "      <td>0.000000</td>\n",
       "      <td>0.150000</td>\n",
       "      <td>0.000000</td>\n",
       "      <td>4.000000</td>\n",
       "    </tr>\n",
       "    <tr>\n",
       "      <th>75%</th>\n",
       "      <td>30.000000</td>\n",
       "      <td>8.000000e+04</td>\n",
       "      <td>3.000000</td>\n",
       "      <td>7.000000</td>\n",
       "      <td>5.000000</td>\n",
       "      <td>12500.000000</td>\n",
       "      <td>13.480000</td>\n",
       "      <td>0.000000</td>\n",
       "      <td>0.230000</td>\n",
       "      <td>0.000000</td>\n",
       "      <td>8.000000</td>\n",
       "    </tr>\n",
       "    <tr>\n",
       "      <th>max</th>\n",
       "      <td>84.000000</td>\n",
       "      <td>2.039784e+06</td>\n",
       "      <td>4.000000</td>\n",
       "      <td>41.000000</td>\n",
       "      <td>6.000000</td>\n",
       "      <td>35000.000000</td>\n",
       "      <td>23.220000</td>\n",
       "      <td>1.000000</td>\n",
       "      <td>0.830000</td>\n",
       "      <td>1.000000</td>\n",
       "      <td>30.000000</td>\n",
       "    </tr>\n",
       "  </tbody>\n",
       "</table>\n",
       "</div>"
      ],
      "text/plain": [
       "         person_age  person_income  person_home_ownership  person_emp_length  \\\n",
       "count  28495.000000   2.849500e+04           28495.000000       28495.000000   \n",
       "mean      27.723530   6.643047e+04               2.438919           4.781751   \n",
       "std        6.177199   5.151374e+04               0.636709           4.037958   \n",
       "min       20.000000   4.000000e+03               1.000000           0.000000   \n",
       "25%       23.000000   3.948000e+04               2.000000           2.000000   \n",
       "50%       26.000000   5.600000e+04               3.000000           4.000000   \n",
       "75%       30.000000   8.000000e+04               3.000000           7.000000   \n",
       "max       84.000000   2.039784e+06               4.000000          41.000000   \n",
       "\n",
       "        loan_intent     loan_amnt  loan_int_rate   loan_status  \\\n",
       "count  28495.000000  28495.000000   28495.000000  28495.000000   \n",
       "mean       3.290121   9657.366205      11.045220      0.217126   \n",
       "std        1.717692   6327.711290       3.230786      0.412296   \n",
       "min        1.000000    500.000000       5.420000      0.000000   \n",
       "25%        2.000000   5000.000000       7.900000      0.000000   \n",
       "50%        3.000000   8000.000000      10.990000      0.000000   \n",
       "75%        5.000000  12500.000000      13.480000      0.000000   \n",
       "max        6.000000  35000.000000      23.220000      1.000000   \n",
       "\n",
       "       loan_percent_income  person_credit_default  person_credit_history  \n",
       "count         28495.000000           28495.000000           28495.000000  \n",
       "mean              0.169517               0.178593               5.800316  \n",
       "std               0.106379               0.383018               4.040800  \n",
       "min               0.000000               0.000000               2.000000  \n",
       "25%               0.090000               0.000000               3.000000  \n",
       "50%               0.150000               0.000000               4.000000  \n",
       "75%               0.230000               0.000000               8.000000  \n",
       "max               0.830000               1.000000              30.000000  "
      ]
     },
     "execution_count": 16,
     "metadata": {},
     "output_type": "execute_result"
    }
   ],
   "source": [
    "# Read the pre processed data set into the data frame\n",
    "df = pd.read_csv('../../data/processed/credit_risk_dataset_processed.csv')\n",
    "df.describe()"
   ]
  },
  {
   "cell_type": "code",
   "execution_count": 17,
   "metadata": {},
   "outputs": [
    {
     "data": {
      "text/plain": [
       "Index(['person_age', 'person_income', 'person_home_ownership',\n",
       "       'person_emp_length', 'loan_intent', 'loan_grade', 'loan_amnt',\n",
       "       'loan_int_rate', 'loan_status', 'loan_percent_income',\n",
       "       'person_credit_default', 'person_credit_history'],\n",
       "      dtype='object')"
      ]
     },
     "execution_count": 17,
     "metadata": {},
     "output_type": "execute_result"
    }
   ],
   "source": [
    "df.columns"
   ]
  },
  {
   "cell_type": "markdown",
   "metadata": {},
   "source": [
    "## As part this Loan Segmentation classification will be analysing the following,\n",
    " - how the Loan grades are classified\n",
    " - what factors are being affected by the loan grade"
   ]
  },
  {
   "cell_type": "code",
   "execution_count": 18,
   "metadata": {},
   "outputs": [
    {
     "data": {
      "text/plain": [
       "array(['B', 'C', 'A', 'D', 'E', 'F', 'G'], dtype=object)"
      ]
     },
     "execution_count": 18,
     "metadata": {},
     "output_type": "execute_result"
    }
   ],
   "source": [
    "df['loan_grade'].unique()"
   ]
  },
  {
   "cell_type": "markdown",
   "metadata": {},
   "source": [
    "With an iterative approach, the dataset columns were dropped from existing column list for predictor selection\n",
    "Initially, all columns were selected as predictors except for loan_grade and loan_status, the accuracy was around 80 to 85%\n",
    "Iteratively, tried dropping columns one by one from the predictors which improved the accuracy.  \n",
    "This approach helped in finding strong correlation that exists between loan_grade and loan_int_rate. The accuracy raised to 97%"
   ]
  },
  {
   "cell_type": "code",
   "execution_count": 19,
   "metadata": {},
   "outputs": [
    {
     "name": "stdout",
     "output_type": "stream",
     "text": [
      "accuracy: 0.975718671504326\n",
      "errorrate: 0.024281328495673993\n"
     ]
    }
   ],
   "source": [
    "# predictors (X)\n",
    "predictors = df.drop(['loan_grade', 'loan_status', 'loan_intent', 'person_age', 'person_emp_length','loan_percent_income', 'loan_amnt', 'person_income', 'person_home_ownership', 'person_credit_default','person_credit_history'], axis=1)\n",
    "\n",
    "# Standardize the predictors\n",
    "scaler = StandardScaler()\n",
    "predictors_standardized = pd.DataFrame(scaler.fit_transform(predictors), columns=predictors.columns)\n",
    "\n",
    "random.seed(67)\n",
    "# Create a random vector to split the dataset for training and testing\n",
    "split = np.random.choice([True, False], size=len(predictors_standardized), replace=True, p=[0.75, 0.25])\n",
    "\n",
    "# Define the training set for X (predictors)\n",
    "training_X = predictors_standardized[split]\n",
    "\n",
    "# Define the training set for Y (response)\n",
    "training_Y = df.loc[split, 'loan_grade']\n",
    "\n",
    "# Define the testing set for X (predictors)\n",
    "testing_X = predictors_standardized[~split]\n",
    "\n",
    "# Define the testing set for Y (response)\n",
    "testing_Y = df.loc[~split, 'loan_grade']\n",
    "\n",
    "# fit and predict the classification model\n",
    "knn1 = KNeighborsClassifier(n_neighbors = 4)\n",
    "knn1.fit(training_X, training_Y)\n",
    "knn1_pred = knn1.predict(testing_X)\n",
    "\n",
    "# prediction accuracy rate\n",
    "accuracy = accuracy_score(testing_Y, knn1_pred)\n",
    "print(f'accuracy: {accuracy}')\n",
    "\n",
    "# prediction error rate\n",
    "errorrate = 1 - accuracy\n",
    "print(f'errorrate: {errorrate}')"
   ]
  },
  {
   "cell_type": "markdown",
   "metadata": {},
   "source": [
    "The accuracy of the model is best when the neighbours = 4, the accuracy marginally decreases when the bucket group is set to 7 to match with the number of grades"
   ]
  },
  {
   "cell_type": "code",
   "execution_count": 20,
   "metadata": {},
   "outputs": [
    {
     "name": "stdout",
     "output_type": "stream",
     "text": [
      "accuracy: 0.9692994697181133\n",
      "errorrate: 0.030700530281886684\n"
     ]
    }
   ],
   "source": [
    "knn1 = KNeighborsClassifier(n_neighbors = 7)\n",
    "knn1.fit(training_X, training_Y)\n",
    "knn1_pred = knn1.predict(testing_X)\n",
    "\n",
    "# prediction accuracy rate\n",
    "accuracy = accuracy_score(testing_Y, knn1_pred)\n",
    "print(f'accuracy: {accuracy}')\n",
    "\n",
    "# prediction error rate\n",
    "errorrate = 1 - accuracy\n",
    "print(f'errorrate: {errorrate}')"
   ]
  },
  {
   "cell_type": "code",
   "execution_count": 21,
   "metadata": {},
   "outputs": [
    {
     "data": {
      "text/html": [
       "<div>\n",
       "<style scoped>\n",
       "    .dataframe tbody tr th:only-of-type {\n",
       "        vertical-align: middle;\n",
       "    }\n",
       "\n",
       "    .dataframe tbody tr th {\n",
       "        vertical-align: top;\n",
       "    }\n",
       "\n",
       "    .dataframe thead th {\n",
       "        text-align: right;\n",
       "    }\n",
       "</style>\n",
       "<table border=\"1\" class=\"dataframe\">\n",
       "  <thead>\n",
       "    <tr style=\"text-align: right;\">\n",
       "      <th>Truth</th>\n",
       "      <th>A</th>\n",
       "      <th>B</th>\n",
       "      <th>C</th>\n",
       "      <th>D</th>\n",
       "      <th>E</th>\n",
       "      <th>F</th>\n",
       "      <th>G</th>\n",
       "    </tr>\n",
       "    <tr>\n",
       "      <th>Predicted</th>\n",
       "      <th></th>\n",
       "      <th></th>\n",
       "      <th></th>\n",
       "      <th></th>\n",
       "      <th></th>\n",
       "      <th></th>\n",
       "      <th></th>\n",
       "    </tr>\n",
       "  </thead>\n",
       "  <tbody>\n",
       "    <tr>\n",
       "      <th>A</th>\n",
       "      <td>2248</td>\n",
       "      <td>52</td>\n",
       "      <td>0</td>\n",
       "      <td>0</td>\n",
       "      <td>0</td>\n",
       "      <td>0</td>\n",
       "      <td>0</td>\n",
       "    </tr>\n",
       "    <tr>\n",
       "      <th>B</th>\n",
       "      <td>0</td>\n",
       "      <td>2280</td>\n",
       "      <td>5</td>\n",
       "      <td>0</td>\n",
       "      <td>0</td>\n",
       "      <td>0</td>\n",
       "      <td>0</td>\n",
       "    </tr>\n",
       "    <tr>\n",
       "      <th>C</th>\n",
       "      <td>0</td>\n",
       "      <td>43</td>\n",
       "      <td>1397</td>\n",
       "      <td>2</td>\n",
       "      <td>0</td>\n",
       "      <td>2</td>\n",
       "      <td>0</td>\n",
       "    </tr>\n",
       "    <tr>\n",
       "      <th>D</th>\n",
       "      <td>0</td>\n",
       "      <td>4</td>\n",
       "      <td>21</td>\n",
       "      <td>773</td>\n",
       "      <td>25</td>\n",
       "      <td>2</td>\n",
       "      <td>0</td>\n",
       "    </tr>\n",
       "    <tr>\n",
       "      <th>E</th>\n",
       "      <td>0</td>\n",
       "      <td>0</td>\n",
       "      <td>8</td>\n",
       "      <td>22</td>\n",
       "      <td>205</td>\n",
       "      <td>1</td>\n",
       "      <td>1</td>\n",
       "    </tr>\n",
       "    <tr>\n",
       "      <th>F</th>\n",
       "      <td>0</td>\n",
       "      <td>0</td>\n",
       "      <td>1</td>\n",
       "      <td>10</td>\n",
       "      <td>11</td>\n",
       "      <td>36</td>\n",
       "      <td>4</td>\n",
       "    </tr>\n",
       "    <tr>\n",
       "      <th>G</th>\n",
       "      <td>0</td>\n",
       "      <td>0</td>\n",
       "      <td>0</td>\n",
       "      <td>0</td>\n",
       "      <td>1</td>\n",
       "      <td>5</td>\n",
       "      <td>7</td>\n",
       "    </tr>\n",
       "  </tbody>\n",
       "</table>\n",
       "</div>"
      ],
      "text/plain": [
       "Truth         A     B     C    D    E   F  G\n",
       "Predicted                                   \n",
       "A          2248    52     0    0    0   0  0\n",
       "B             0  2280     5    0    0   0  0\n",
       "C             0    43  1397    2    0   2  0\n",
       "D             0     4    21  773   25   2  0\n",
       "E             0     0     8   22  205   1  1\n",
       "F             0     0     1   10   11  36  4\n",
       "G             0     0     0    0    1   5  7"
      ]
     },
     "execution_count": 21,
     "metadata": {},
     "output_type": "execute_result"
    }
   ],
   "source": [
    "# confusion table shows how many times the model predicts the grade correctly with the test data\n",
    "from ISLP import confusion_table\n",
    "\n",
    "confusion_table(testing_Y, knn1_pred)"
   ]
  },
  {
   "cell_type": "markdown",
   "metadata": {},
   "source": [
    "The confusion table shows the number of data tested for each grade goes down especially for grades E, F and G"
   ]
  },
  {
   "cell_type": "code",
   "execution_count": 22,
   "metadata": {},
   "outputs": [
    {
     "name": "stdout",
     "output_type": "stream",
     "text": [
      "              precision    recall  f1-score   support\n",
      "\n",
      "           A       1.00      0.98      0.99      2300\n",
      "           B       0.96      1.00      0.98      2285\n",
      "           C       0.98      0.97      0.97      1444\n",
      "           D       0.96      0.94      0.95       825\n",
      "           E       0.85      0.86      0.86       237\n",
      "           F       0.78      0.58      0.67        62\n",
      "           G       0.58      0.54      0.56        13\n",
      "\n",
      "    accuracy                           0.97      7166\n",
      "   macro avg       0.87      0.84      0.85      7166\n",
      "weighted avg       0.97      0.97      0.97      7166\n",
      "\n"
     ]
    }
   ],
   "source": [
    "from sklearn.metrics import classification_report\n",
    "\n",
    "\n",
    "print(classification_report(testing_Y, knn1_pred))"
   ]
  },
  {
   "cell_type": "markdown",
   "metadata": {},
   "source": [
    "The classification report shows the precision for each grade in over all is good, however \n",
    "the percision goes down with the grade, this may be because the data by loan grade is **Imbalanced**"
   ]
  },
  {
   "cell_type": "markdown",
   "metadata": {},
   "source": [
    "## The below histogram shows that the Loan Grade is broadly classified by the interest rate range"
   ]
  },
  {
   "cell_type": "code",
   "execution_count": 23,
   "metadata": {},
   "outputs": [
    {
     "data": {
      "image/png": "[encoded data removed]",
      "text/plain": [
       "<Figure size 3000x1600 with 1 Axes>"
      ]
     },
     "metadata": {},
     "output_type": "display_data"
    }
   ],
   "source": [
    "import seaborn as sns\n",
    "\n",
    "plt.figure(figsize=(30, 16))\n",
    "sns.histplot(data=df, x='loan_int_rate', hue='loan_grade')\n",
    "plt.title(f'Distribution of Interest Rate by Loan Grade')\n",
    "plt.xlabel('loan_int_rate')\n",
    "plt.ylabel('loan_grade')\n",
    "plt.show()"
   ]
  },
  {
   "cell_type": "markdown",
   "metadata": {},
   "source": [
    "The below figure shows the data by loan grade is imbalanced, we are aiming to balance the data and train the model again to see if the model would perform well for all Grades"
   ]
  },
  {
   "cell_type": "code",
   "execution_count": 24,
   "metadata": {},
   "outputs": [
    {
     "data": {
      "image/png": "[encoded data removed]",
      "text/plain": [
       "<Figure size 640x480 with 1 Axes>"
      ]
     },
     "metadata": {},
     "output_type": "display_data"
    }
   ],
   "source": [
    "plt.hist(df['loan_grade'], bins=7, edgecolor='black')\n",
    "plt.xlabel('loan_grade')\n",
    "plt.ylabel('Frequency')\n",
    "plt.show()"
   ]
  },
  {
   "cell_type": "markdown",
   "metadata": {},
   "source": [
    "## Boot strapping\n",
    "\n",
    "To balance the dataset with the data of loan grade E, F and G using the bootstrapping technique to create random samples from same dataset.\n",
    "These random samples are added back to the original dataset to balance the data with loan grades E, F and G"
   ]
  },
  {
   "cell_type": "code",
   "execution_count": 35,
   "metadata": {},
   "outputs": [],
   "source": [
    "seed = 42\n",
    "B = 10\n",
    "rng = np.random.default_rng(seed)\n",
    "n = 200\n",
    "filter = df.loc[(df['loan_grade'] == 'D') | (df['loan_grade'] == 'E') | (df['loan_grade'] == 'F') | (df['loan_grade'] == 'G')]\n",
    "\n",
    "for i in range(B):\n",
    "    idx = rng.choice(filter, n, replace=True)\n",
    "    df = pd.concat([df,pd.DataFrame(idx, columns= df.columns)], axis=0)\n",
    "    \n",
    "newdf = df"
   ]
  },
  {
   "cell_type": "code",
   "execution_count": 36,
   "metadata": {},
   "outputs": [
    {
     "data": {
      "text/plain": [
       "(32495, 12)"
      ]
     },
     "execution_count": 36,
     "metadata": {},
     "output_type": "execute_result"
    }
   ],
   "source": [
    "newdf.shape"
   ]
  },
  {
   "cell_type": "markdown",
   "metadata": {},
   "source": [
    "The dataset balancing has been improved with resampling, the model is fitted and trained again to see if it increases the accuracy for the loan_grade 'E', 'F' and 'G'. From the below confusion table, you can see the data being tested for intended grades have increased. From the classification report, you can confirm that the accuracy has imrpoved for the Grades which had a lower accuracy before balancing the data."
   ]
  },
  {
   "cell_type": "code",
   "execution_count": 37,
   "metadata": {},
   "outputs": [
    {
     "name": "stdout",
     "output_type": "stream",
     "text": [
      "accuracy: 0.967687074829932\n",
      "errorrate: 0.03231292517006801\n"
     ]
    }
   ],
   "source": [
    "\n",
    "predictors = newdf.drop(['loan_grade', 'loan_status', 'loan_intent', 'person_age', 'person_emp_length','loan_percent_income', 'loan_amnt', 'person_income', 'person_home_ownership', 'person_credit_default','person_credit_history'], axis=1)\n",
    "scaler = StandardScaler()\n",
    "predictors_standardized = pd.DataFrame(scaler.fit_transform(predictors), columns=predictors.columns)\n",
    "\n",
    "random.seed(67)\n",
    "# Create a random vector for splitting dataset\n",
    "split = np.random.choice([True, False], size=len(predictors_standardized), replace=True, p=[0.75, 0.25])\n",
    "\n",
    "# Define the training set for X (predictors)\n",
    "training_X = predictors_standardized[split]\n",
    "\n",
    "# Define the training set for Y (response)\n",
    "training_Y = newdf.loc[split, 'loan_grade']\n",
    "\n",
    "# Define the testing set for X (predictors)\n",
    "testing_X = predictors_standardized[~split]\n",
    "\n",
    "# Define the testing set for Y (response)\n",
    "testing_Y = newdf.loc[~split, 'loan_grade']\n",
    "\n",
    "knn1 = KNeighborsClassifier(n_neighbors=4)\n",
    "knn1.fit(training_X, training_Y)\n",
    "knn1_pred = knn1.predict(testing_X)\n",
    "\n",
    "# prediction accuracy rate\n",
    "accuracy = accuracy_score(testing_Y, knn1_pred)\n",
    "print(f'accuracy: {accuracy}')\n",
    "\n",
    "# prediction error rate\n",
    "errorrate = 1 - accuracy\n",
    "print(f'errorrate: {errorrate}')"
   ]
  },
  {
   "cell_type": "code",
   "execution_count": 38,
   "metadata": {},
   "outputs": [
    {
     "data": {
      "text/html": [
       "<div>\n",
       "<style scoped>\n",
       "    .dataframe tbody tr th:only-of-type {\n",
       "        vertical-align: middle;\n",
       "    }\n",
       "\n",
       "    .dataframe tbody tr th {\n",
       "        vertical-align: top;\n",
       "    }\n",
       "\n",
       "    .dataframe thead th {\n",
       "        text-align: right;\n",
       "    }\n",
       "</style>\n",
       "<table border=\"1\" class=\"dataframe\">\n",
       "  <thead>\n",
       "    <tr style=\"text-align: right;\">\n",
       "      <th>Truth</th>\n",
       "      <th>A</th>\n",
       "      <th>B</th>\n",
       "      <th>C</th>\n",
       "      <th>D</th>\n",
       "      <th>E</th>\n",
       "      <th>F</th>\n",
       "      <th>G</th>\n",
       "    </tr>\n",
       "    <tr>\n",
       "      <th>Predicted</th>\n",
       "      <th></th>\n",
       "      <th></th>\n",
       "      <th></th>\n",
       "      <th></th>\n",
       "      <th></th>\n",
       "      <th></th>\n",
       "      <th></th>\n",
       "    </tr>\n",
       "  </thead>\n",
       "  <tbody>\n",
       "    <tr>\n",
       "      <th>A</th>\n",
       "      <td>2286</td>\n",
       "      <td>54</td>\n",
       "      <td>0</td>\n",
       "      <td>0</td>\n",
       "      <td>0</td>\n",
       "      <td>0</td>\n",
       "      <td>0</td>\n",
       "    </tr>\n",
       "    <tr>\n",
       "      <th>B</th>\n",
       "      <td>0</td>\n",
       "      <td>2269</td>\n",
       "      <td>3</td>\n",
       "      <td>0</td>\n",
       "      <td>0</td>\n",
       "      <td>0</td>\n",
       "      <td>0</td>\n",
       "    </tr>\n",
       "    <tr>\n",
       "      <th>C</th>\n",
       "      <td>0</td>\n",
       "      <td>49</td>\n",
       "      <td>1405</td>\n",
       "      <td>2</td>\n",
       "      <td>0</td>\n",
       "      <td>0</td>\n",
       "      <td>0</td>\n",
       "    </tr>\n",
       "    <tr>\n",
       "      <th>D</th>\n",
       "      <td>0</td>\n",
       "      <td>3</td>\n",
       "      <td>13</td>\n",
       "      <td>1071</td>\n",
       "      <td>5</td>\n",
       "      <td>0</td>\n",
       "      <td>0</td>\n",
       "    </tr>\n",
       "    <tr>\n",
       "      <th>E</th>\n",
       "      <td>0</td>\n",
       "      <td>0</td>\n",
       "      <td>10</td>\n",
       "      <td>102</td>\n",
       "      <td>706</td>\n",
       "      <td>0</td>\n",
       "      <td>0</td>\n",
       "    </tr>\n",
       "    <tr>\n",
       "      <th>F</th>\n",
       "      <td>0</td>\n",
       "      <td>0</td>\n",
       "      <td>3</td>\n",
       "      <td>17</td>\n",
       "      <td>2</td>\n",
       "      <td>173</td>\n",
       "      <td>0</td>\n",
       "    </tr>\n",
       "    <tr>\n",
       "      <th>G</th>\n",
       "      <td>0</td>\n",
       "      <td>0</td>\n",
       "      <td>0</td>\n",
       "      <td>0</td>\n",
       "      <td>2</td>\n",
       "      <td>1</td>\n",
       "      <td>56</td>\n",
       "    </tr>\n",
       "  </tbody>\n",
       "</table>\n",
       "</div>"
      ],
      "text/plain": [
       "Truth         A     B     C     D    E    F   G\n",
       "Predicted                                      \n",
       "A          2286    54     0     0    0    0   0\n",
       "B             0  2269     3     0    0    0   0\n",
       "C             0    49  1405     2    0    0   0\n",
       "D             0     3    13  1071    5    0   0\n",
       "E             0     0    10   102  706    0   0\n",
       "F             0     0     3    17    2  173   0\n",
       "G             0     0     0     0    2    1  56"
      ]
     },
     "execution_count": 38,
     "metadata": {},
     "output_type": "execute_result"
    }
   ],
   "source": [
    "confusion_table(testing_Y, knn1_pred)"
   ]
  },
  {
   "cell_type": "code",
   "execution_count": 39,
   "metadata": {},
   "outputs": [
    {
     "name": "stdout",
     "output_type": "stream",
     "text": [
      "              precision    recall  f1-score   support\n",
      "\n",
      "           A       1.00      0.98      0.99      2340\n",
      "           B       0.96      1.00      0.98      2272\n",
      "           C       0.98      0.96      0.97      1456\n",
      "           D       0.90      0.98      0.94      1092\n",
      "           E       0.99      0.86      0.92       818\n",
      "           F       0.99      0.89      0.94       195\n",
      "           G       1.00      0.95      0.97        59\n",
      "\n",
      "    accuracy                           0.97      8232\n",
      "   macro avg       0.97      0.95      0.96      8232\n",
      "weighted avg       0.97      0.97      0.97      8232\n",
      "\n"
     ]
    }
   ],
   "source": [
    "print(classification_report(testing_Y, knn1_pred))"
   ]
  },
  {
   "cell_type": "markdown",
   "metadata": {},
   "source": [
    "## Conclusion\n",
    "From the above analysis using the classification model we are able to make it out that there is a strong correlation exists between Loan grade and loan interest rate. The grade of the loan declines alphabetically from A to G, the lower the grade assigned to the Loan, the higher the rate of interest assigned to the loan. \n",
    "\n",
    "This analysis has helped in understanding how these loan features would affect the credit risk and loan default in future. Since both loan_grade and loan_int_rate has strong affinity it would make sense to have only one column included in the parameter selection for Loan default model which would be carried out in a different module of the project."
   ]
  }
 ],
 "metadata": {
  "kernelspec": {
   "display_name": "dsi_participant",
   "language": "python",
   "name": "python3"
  },
  "language_info": {
   "codemirror_mode": {
    "name": "ipython",
    "version": 3
   },
   "file_extension": ".py",
   "mimetype": "text/x-python",
   "name": "python",
   "nbconvert_exporter": "python",
   "pygments_lexer": "ipython3",
   "version": "3.9.15"
  }
 },
 "nbformat": 4,
 "nbformat_minor": 2
}
