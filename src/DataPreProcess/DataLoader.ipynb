{
 "cells": [
  {
   "cell_type": "code",
   "execution_count": 1,
   "metadata": {},
   "outputs": [
    {
     "name": "stdout",
     "output_type": "stream",
     "text": [
      "   person_age  person_income person_home_ownership  person_emp_length  \\\n",
      "0          22          59000                  RENT              123.0   \n",
      "1          21           9600                   OWN                5.0   \n",
      "2          25           9600              MORTGAGE                1.0   \n",
      "3          23          65500                  RENT                4.0   \n",
      "4          24          54400                  RENT                8.0   \n",
      "\n",
      "  loan_intent loan_grade  loan_amnt  loan_int_rate  loan_status  \\\n",
      "0    PERSONAL          D      35000          16.02            1   \n",
      "1   EDUCATION          B       1000          11.14            0   \n",
      "2     MEDICAL          C       5500          12.87            1   \n",
      "3     MEDICAL          C      35000          15.23            1   \n",
      "4     MEDICAL          C      35000          14.27            1   \n",
      "\n",
      "   loan_percent_income cb_person_default_on_file  cb_person_cred_hist_length  \n",
      "0                 0.59                         Y                           3  \n",
      "1                 0.10                         N                           2  \n",
      "2                 0.57                         N                           3  \n",
      "3                 0.53                         N                           2  \n",
      "4                 0.55                         Y                           4  \n"
     ]
    }
   ],
   "source": [
    "import pandas as pd\n",
    "\n",
    "# Specify the path to the CSV file\n",
    "file_path = '../../data/raw/credit_risk_dataset.csv'\n",
    "\n",
    "# Read the CSV file into a DataFrame\n",
    "df = pd.read_csv(file_path)\n",
    "\n",
    "# Display the first few rows of the DataFrame\n",
    "print(df.head())"
   ]
  },
  {
   "cell_type": "code",
   "execution_count": 3,
   "metadata": {},
   "outputs": [
    {
     "name": "stdout",
     "output_type": "stream",
     "text": [
      "Cleaned DataFrame:\n",
      "   person_age  person_income  person_home_ownership  person_emp_length  \\\n",
      "1          21           9600                      1                5.0   \n",
      "2          25           9600                      2                1.0   \n",
      "3          23          65500                      3                4.0   \n",
      "4          24          54400                      3                8.0   \n",
      "5          21           9900                      1                2.0   \n",
      "\n",
      "   loan_intent loan_grade  loan_amnt  loan_int_rate  loan_status  \\\n",
      "1            1          B       1000          11.14            0   \n",
      "2            2          C       5500          12.87            1   \n",
      "3            2          C      35000          15.23            1   \n",
      "4            2          C      35000          14.27            1   \n",
      "5            3          A       2500           7.14            1   \n",
      "\n",
      "   loan_percent_income  person_credit_default  person_credit_history  \n",
      "1                 0.10                      0                      2  \n",
      "2                 0.57                      0                      3  \n",
      "3                 0.53                      0                      2  \n",
      "4                 0.55                      1                      4  \n",
      "5                 0.25                      0                      2  \n"
     ]
    }
   ],
   "source": [
    "# Remove rows with any missing values\n",
    "df.dropna(inplace=True)\n",
    "\n",
    "# Remove Duplicates\n",
    "df.drop_duplicates(inplace=True)\n",
    "\n",
    "# Remove outliers based on condition (e.g., values greater than a threshold)\n",
    "df = df[df['person_emp_length'] < 50]  # person with employment length in years over 50\n",
    "df = df[df['person_age'] < 100]  # person with age in years over 100\n",
    "\n",
    "# Rename Columns\n",
    "df.rename(columns={'cb_person_cred_hist_length': 'person_credit_history'}, inplace=True)\n",
    "df.rename(columns={'cb_person_default_on_file': 'person_credit_default'}, inplace=True)\n",
    "\n",
    "# Convert column values to specific type (e.g., 'int', 'float', 'str')\n",
    "df['person_credit_default'] = df['person_credit_default'].map({'Y': 1, 'N': 0}) # person credit default value from Y/N to 0 or 1\n",
    "# df['person_home_ownership'] = df['person_home_ownership'].map({'OWN': 1, 'MORTGAGE': 2, 'RENT': 3, 'OTHER': 4})\n",
    "# df['loan_intent'] = df['loan_intent'].map({'EDUCATION': 1, 'MEDICAL': 2, 'VENTURE': 3, 'PERSONAL': 4, 'HOMEIMPROVEMENT': 5, 'DEBTCONSOLIDATION': 6})\n",
    "\n",
    "# Display the cleaned DataFrame\n",
    "print(\"Cleaned DataFrame:\")\n",
    "print(df.head())\n",
    "\n",
    "# Save the cleaned DataFrame to a new CSV file in processed folder\n",
    "processed_file_path = '../../data/processed/credit_risk_dataset_processed.csv'\n",
    "df.to_csv(processed_file_path, index=False)"
   ]
  }
 ],
 "metadata": {
  "kernelspec": {
   "display_name": "dsi_participant",
   "language": "python",
   "name": "python3"
  },
  "language_info": {
   "codemirror_mode": {
    "name": "ipython",
    "version": 3
   },
   "file_extension": ".py",
   "mimetype": "text/x-python",
   "name": "python",
   "nbconvert_exporter": "python",
   "pygments_lexer": "ipython3",
   "version": "3.9.15"
  }
 },
 "nbformat": 4,
 "nbformat_minor": 2
}
